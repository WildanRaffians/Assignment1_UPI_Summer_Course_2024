{
  "nbformat": 4,
  "nbformat_minor": 0,
  "metadata": {
    "colab": {
      "provenance": []
    },
    "kernelspec": {
      "name": "python3",
      "display_name": "Python 3"
    },
    "language_info": {
      "name": "python"
    }
  },
  "cells": [
    {
      "cell_type": "markdown",
      "source": [
        "**First Case Study : Miles Per Gallon**"
      ],
      "metadata": {
        "id": "rvSFpEdkBHSp"
      }
    },
    {
      "cell_type": "code",
      "execution_count": null,
      "metadata": {
        "colab": {
          "base_uri": "https://localhost:8080/"
        },
        "id": "DrSbmb8PA0PT",
        "outputId": "d2226f74-3dd7-46fc-a82a-c57b8d9a706d"
      },
      "outputs": [
        {
          "output_type": "stream",
          "name": "stdout",
          "text": [
            "Enter the gallons used (-1 to end): 12.8\n",
            "Enter the miles driven: 287\n",
            "The miles/gallon for this thank was 22.421875\n",
            "Enter the gallons used (-1 to end): 10.3\n",
            "Enter the miles driven: 200\n",
            "The miles/gallon for this thank was 19.417476\n",
            "Enter the gallons used (-1 to end): 5\n",
            "Enter the miles driven: 120\n",
            "The miles/gallon for this thank was 24.000000\n",
            "Enter the gallons used (-1 to end): -1\n",
            "The overall average miles/gallon was 21.601423\n"
          ]
        }
      ],
      "source": [
        "sum_miles = 0\n",
        "sum_gallons = 0\n",
        "\n",
        "while True:\n",
        "    gallons = float(input(\"Enter the gallons used (-1 to end): \"))\n",
        "    if gallons == -1:\n",
        "        break\n",
        "    miles = int(input(\"Enter the miles driven: \"))\n",
        "    mpg = miles / gallons\n",
        "    sum_miles += miles\n",
        "    sum_gallons += gallons\n",
        "    print(f'The miles/gallon for this tank was {mpg:.6f}')\n",
        "\n",
        "print(f'The overall average miles/gallon was {sum_miles / sum_gallons:.6f}')"
      ]
    },
    {
      "cell_type": "markdown",
      "source": [
        "Second Case Study : A Game of Chance - Crap"
      ],
      "metadata": {
        "id": "JMSINjnDBNHG"
      }
    },
    {
      "cell_type": "code",
      "source": [
        "import random\n",
        "import time\n",
        "\n",
        "def roll_dice():\n",
        "  # Roll two dice\n",
        "  dice1 = random.randint(1, 6)\n",
        "  dice2 = random.randint(1, 6)\n",
        "  print(f\"Your Dice : [{dice1}, {dice2}]\")\n",
        "  return dice1 + dice2\n",
        "\n",
        "# First roll\n",
        "first_roll = roll_dice()\n",
        "print(f\"First roll: {first_roll}\")\n",
        "time.sleep(3)\n",
        "\n",
        "# check outcome the first roll\n",
        "if first_roll in [7, 11]:\n",
        "  print(\"You Win\")\n",
        "elif first_roll in [2, 3, 12]:\n",
        "  print(\"You Lose\")\n",
        "else:\n",
        "  # Set the point\n",
        "  point = first_roll\n",
        "\n",
        "  print(f\"Point to make: {point}\")\n",
        "  time.sleep(3)\n",
        "  # Roll to get the point\n",
        "  while True:\n",
        "    roll = roll_dice()\n",
        "    print(f\"Roll: {roll}\")\n",
        "    time.sleep(2)\n",
        "    if roll == point:\n",
        "      time.sleep(2)\n",
        "      print(\"You Win\")\n",
        "      break\n",
        "    elif roll == 7:\n",
        "      time.sleep(2)\n",
        "      print(\"You Lose\")\n",
        "      break"
      ],
      "metadata": {
        "colab": {
          "base_uri": "https://localhost:8080/"
        },
        "id": "flr8TF14e9Is",
        "outputId": "2a900475-169b-4356-bc68-91c41f9ce1d9"
      },
      "execution_count": 29,
      "outputs": [
        {
          "output_type": "stream",
          "name": "stdout",
          "text": [
            "Your Dice : [1, 5]\n",
            "First roll: 6\n",
            "Point to make: 6\n",
            "Your Dice : [6, 6]\n",
            "Roll: 12\n",
            "Your Dice : [6, 5]\n",
            "Roll: 11\n",
            "Your Dice : [5, 4]\n",
            "Roll: 9\n",
            "Your Dice : [5, 3]\n",
            "Roll: 8\n",
            "Your Dice : [5, 6]\n",
            "Roll: 11\n",
            "Your Dice : [2, 4]\n",
            "Roll: 6\n",
            "You Win\n"
          ]
        }
      ]
    },
    {
      "cell_type": "markdown",
      "source": [
        "Third Case Study : COVID 19 Infection Statistic"
      ],
      "metadata": {
        "id": "CeVMZo59BaFY"
      }
    },
    {
      "cell_type": "code",
      "source": [
        "import statistics\n",
        "\n",
        "n_infected_patients = [174, 335, 278, 214, 422, 513, 737, 672, 489, 412, 1301, 1105, 1123, 1376, 1502, 894, 665, 1704, 1656, 1342]\n",
        "\n",
        "min_value = min(n_infected_patients)\n",
        "max_value = max(n_infected_patients)\n",
        "range_value = max_value - min_value\n",
        "mean_value = statistics.mean(n_infected_patients)\n",
        "median_value = statistics.median(n_infected_patients)\n",
        "variance_value = statistics.variance(n_infected_patients)\n",
        "std_dev_value = statistics.stdev(n_infected_patients)\n",
        "\n",
        "print(f\"The minimum number of patients infected in a day was {min_value}\")\n",
        "print(f\"The maximum number of patients infected in a day was {max_value}\")\n",
        "print(f\"The range of patients infected in a day was {range_value}\")\n",
        "print(f\"The mean number of patients infected in a day was {mean_value}\")\n",
        "print(f\"The median number of patients infected in a day was {median_value}\")\n",
        "print(f\"The variance in the number of patients infected in a day was {variance_value}\")\n",
        "print(f\"The standard deviation in the number of patients infected in a day was {std_dev_value}\")"
      ],
      "metadata": {
        "id": "FEoBy-OkBba7",
        "colab": {
          "base_uri": "https://localhost:8080/"
        },
        "outputId": "417d156d-ba6e-41a4-f290-c52117a0ee58"
      },
      "execution_count": null,
      "outputs": [
        {
          "output_type": "stream",
          "name": "stdout",
          "text": [
            "The minimum number of patients infected in a day was 174\n",
            "The maximum number of patients infected in a day was 1704\n",
            "The range of patients infected in a day was 1530\n",
            "The mean number of patients infected in a day was 845.7\n",
            "The median number of patients infected in a day was 704.5\n",
            "The variance in the number of patients infected in a day was 253620.74736842106\n",
            "The standard deviation in the number of patients infected in a day was 503.60773164082883\n"
          ]
        }
      ]
    }
  ]
}